{
  "nbformat": 4,
  "nbformat_minor": 0,
  "metadata": {
    "colab": {
      "provenance": [],
      "include_colab_link": true
    },
    "kernelspec": {
      "name": "python3",
      "display_name": "Python 3"
    },
    "language_info": {
      "name": "python"
    }
  },
  "cells": [
    {
      "cell_type": "markdown",
      "metadata": {
        "id": "view-in-github",
        "colab_type": "text"
      },
      "source": [
        "<a href=\"https://colab.research.google.com/github/Danish2op/Marks_adder/blob/main/Marks_adder.ipynb\" target=\"_parent\"><img src=\"https://colab.research.google.com/assets/colab-badge.svg\" alt=\"Open In Colab\"/></a>"
      ]
    },
    {
      "cell_type": "markdown",
      "source": [
        "\n",
        "\n",
        "*   A csv file contains roll numbers and marks\n",
        "*   write a program to add the marks\n",
        "\n"
      ],
      "metadata": {
        "id": "DTz80zFQrTeC"
      }
    },
    {
      "cell_type": "code",
      "source": [
        "import pandas as pd\n",
        "\n",
        "def add_marks_by_roll(csv_file):\n",
        "    # Read the CSV file into a pandas DataFrame\n",
        "    df = pd.read_csv(csv_file)\n",
        "\n",
        "    # Group by 'Roll Num' and sum the 'Marks' column\n",
        "    grouped_df = df.groupby('Roll Num')['Marks'].sum().reset_index()\n",
        "\n",
        "    # Create a new CSV file with summed marks\n",
        "    grouped_df.to_csv('new_file.csv', index=False)\n",
        "\n",
        "# Name of the input CSV file\n",
        "input_file = '/content/Mini Project - Marks Adding.csv'\n",
        "\n",
        "# Call the function to add marks by roll number and create a new file\n",
        "add_marks_by_roll(input_file)\n"
      ],
      "metadata": {
        "id": "RTSOhVAKrd6b"
      },
      "execution_count": null,
      "outputs": []
    },
    {
      "cell_type": "code",
      "source": [],
      "metadata": {
        "id": "rpSvdy6oscRJ"
      },
      "execution_count": null,
      "outputs": []
    }
  ]
}